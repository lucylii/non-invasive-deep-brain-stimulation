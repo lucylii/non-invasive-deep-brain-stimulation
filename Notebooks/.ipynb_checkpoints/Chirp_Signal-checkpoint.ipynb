{
 "cells": [
  {
   "cell_type": "markdown",
   "metadata": {},
   "source": [
    "## Stimulation Patterns"
   ]
  },
  {
   "cell_type": "markdown",
   "metadata": {},
   "source": [
    "Import useful libraries"
   ]
  },
  {
   "cell_type": "code",
   "execution_count": null,
   "metadata": {},
   "outputs": [],
   "source": [
    "import numpy as np\n",
    "import matplotlib.pyplot as plt"
   ]
  },
  {
   "cell_type": "markdown",
   "metadata": {},
   "source": [
    "Playing a bit with stimulation patterns and figuring out what's the best way to havea  specific pattern of stimulation"
   ]
  },
  {
   "cell_type": "markdown",
   "metadata": {},
   "source": [
    "There are some stuff that we might need for any kind of stimulation:\n",
    "\n",
    "- period of the whole simulation\n",
    "- sampling frequency \n",
    "- when is the stimulation active and when is it off! In other words what is the frequency at which this stimulation is applied"
   ]
  },
  {
   "cell_type": "markdown",
   "metadata": {},
   "source": [
    "So let's define these (or some of these!)"
   ]
  },
  {
   "cell_type": "code",
   "execution_count": null,
   "metadata": {},
   "outputs": [],
   "source": [
    "Sim_period = 3000  # ms\n",
    "Sim_fs = 1000  #Hz\n",
    "\n",
    "Sim_dt = 1/Sim_fs\n",
    "Sim_t = np.arange(0,Sim_period,Sim_dt)"
   ]
  },
  {
   "cell_type": "markdown",
   "metadata": {},
   "source": [
    "Let's initialize a general stimulation signal (a DC signal with a specific amplitude)"
   ]
  },
  {
   "cell_type": "code",
   "execution_count": null,
   "metadata": {},
   "outputs": [],
   "source": [
    "Stim_dc_amp = 10"
   ]
  },
  {
   "cell_type": "code",
   "execution_count": null,
   "metadata": {},
   "outputs": [],
   "source": [
    "Stim_I = Stim_dc_amp * np.ones(Sim_t.shape)"
   ]
  },
  {
   "cell_type": "markdown",
   "metadata": {},
   "source": [
    "## Chirp Stimulation"
   ]
  },
  {
   "cell_type": "markdown",
   "metadata": {},
   "source": [
    "What do we need here?\n",
    "\n",
    "- starting frequency\n",
    "- time at which starting frequency startrs taking effect\n",
    "- ending frequency\n",
    "- time at which the ending frequency stops taking effect"
   ]
  },
  {
   "cell_type": "code",
   "execution_count": null,
   "metadata": {},
   "outputs": [],
   "source": [
    "Chirp_init_freq = .00001  # kHz\n",
    "Chirp_init_time = 0  # ms\n",
    "\n",
    "Chirp_end_freq = .1  # kHz\n",
    "Chirp_end_time = 3000  # ms "
   ]
  },
  {
   "cell_type": "markdown",
   "metadata": {},
   "source": [
    "So the idea for the chirp sigal would be that there is an initial frequency and and ending frequency.\n",
    "The is a time that the initial frequency starts changing and there is a time that the ending frequency stops changing. That basically means before the"
   ]
  },
  {
   "cell_type": "code",
   "execution_count": null,
   "metadata": {},
   "outputs": [],
   "source": [
    "Chirp_signal = np.zeros(Sim_t.shape)\n",
    "\n",
    "Chirp_signal_init = np.sin(2 * np.pi * Chirp_init_freq * Sim_t[:int(Chirp_init_time*Sim_fs)]) # the starting of the signal should be with the starting frequency\n",
    "\n",
    "Chirp_freqs = np.linspace(Chirp_init_freq, Chirp_end_freq, int(Chirp_end_time*Sim_fs) - int(Chirp_init_time*Sim_fs)) / 2\n",
    "Chirp_signal_mid = np.sin(2 * np.pi * Chirp_freqs * Sim_t[int(Chirp_init_time*Sim_fs):int(Chirp_end_time*Sim_fs)])\n",
    "\n",
    "Chirp_signal_end = np.sin(2 * np.pi * Chirp_end_freq * Sim_t[int(Chirp_end_time*Sim_fs):]) # the ending should be with the ending frequency\n",
    "\n",
    "Chirp_signal[:int(Chirp_init_time*Sim_fs)] = Chirp_signal_init\n",
    "Chirp_signal[int(Chirp_init_time*Sim_fs):int(Chirp_end_time*Sim_fs)] = Chirp_signal_mid\n",
    "Chirp_signal[int(Chirp_end_time*Sim_fs):] = Chirp_signal_end "
   ]
  },
  {
   "cell_type": "code",
   "execution_count": null,
   "metadata": {},
   "outputs": [],
   "source": [
    "aa = np.array([0,1,2,3,4,5,6,7,8,9,10])\n",
    "print(\n",
    "    aa[:3],  # displays up to element 3!\n",
    "    aa[3:6], \n",
    "    aa[6:] \n",
    ")"
   ]
  },
  {
   "cell_type": "code",
   "execution_count": null,
   "metadata": {},
   "outputs": [],
   "source": [
    "plt.figure(figsize=(20,5))\n",
    "plt.plot(Sim_t, Chirp_signal)\n",
    "plt.show()"
   ]
  },
  {
   "cell_type": "markdown",
   "metadata": {},
   "source": [
    "Let's create a function for the chirp stimulation"
   ]
  },
  {
   "cell_type": "code",
   "execution_count": null,
   "metadata": {},
   "outputs": [],
   "source": [
    "def gen_chirp(Chirp_init_freq=None, Chirp_init_time=None, Chirp_end_freq=None, Chirp_end_time=None, Sim_t=None):\n",
    "    \n",
    "    Chirp_signal = np.zeros(Sim_t.shape)\n",
    "\n",
    "    Chirp_signal_init = np.sin(2 * np.pi * Chirp_init_freq * Sim_t[:int(Chirp_init_time*Sim_fs)]) # the starting of the signal should be with the starting frequency\n",
    "\n",
    "    Chirp_freqs = np.linspace(Chirp_init_freq, Chirp_end_freq, int(Chirp_end_time*Sim_fs) - int(Chirp_init_time*Sim_fs)) / 2\n",
    "    Chirp_signal_mid = np.sin(2 * np.pi * Chirp_freqs * Sim_t[int(Chirp_init_time*Sim_fs):int(Chirp_end_time*Sim_fs)])\n",
    "\n",
    "    Chirp_signal_end = np.sin(2 * np.pi * Chirp_end_freq * Sim_t[int(Chirp_end_time*Sim_fs):]) # the ending should be with the ending frequency\n",
    "\n",
    "    Chirp_signal[:int(Chirp_init_time*Sim_fs)] = Chirp_signal_init\n",
    "    Chirp_signal[int(Chirp_init_time*Sim_fs):int(Chirp_end_time*Sim_fs)] = Chirp_signal_mid\n",
    "    Chirp_signal[int(Chirp_end_time*Sim_fs):] = Chirp_signal_end\n",
    "    \n",
    "    return Chirp_signal"
   ]
  },
  {
   "cell_type": "code",
   "execution_count": null,
   "metadata": {},
   "outputs": [],
   "source": [
    "chirp_signal = gen_chirp(Chirp_init_freq=.001, Chirp_init_time=0, Chirp_end_freq=.1, Chirp_end_time=Sim_t[-1], Sim_t=Sim_t)"
   ]
  },
  {
   "cell_type": "code",
   "execution_count": null,
   "metadata": {},
   "outputs": [],
   "source": [
    "plt.figure(figsize=(20,5))\n",
    "plt.plot(Sim_t, out)\n",
    "plt.show()"
   ]
  },
  {
   "cell_type": "markdown",
   "metadata": {},
   "source": [
    "### Slope"
   ]
  },
  {
   "cell_type": "code",
   "execution_count": 12,
   "metadata": {},
   "outputs": [],
   "source": [
    "sig = np.zeros(Sim_t.shape)\n",
    "init_time = 500\n",
    "remaining_time = Sim_t[init_time*Sim_fs:] - init_time\n",
    "\n",
    "init_sig = np.ones((init_time*Sim_fs,))\n",
    "remaining_sig = np.minimum( remaining_time / 500, 1)\n",
    "\n",
    "sig[:init_time*Sim_fs] = init_sig\n",
    "sig[init_time*Sim_fs:] = remaining_sig"
   ]
  },
  {
   "cell_type": "code",
   "execution_count": 13,
   "metadata": {},
   "outputs": [
    {
     "data": {
      "image/png": "[encoded data removed]",
      "text/plain": [
       "<matplotlib.figure.Figure at 0x2431ca09ba8>"
      ]
     },
     "metadata": {},
     "output_type": "display_data"
    }
   ],
   "source": [
    "plt.plot(Sim_t, sig)\n",
    "plt.show()"
   ]
  },
  {
   "cell_type": "markdown",
   "metadata": {},
   "source": [
    "## Add Stimulation patterns to the functions.py file"
   ]
  },
  {
   "cell_type": "code",
   "execution_count": 1,
   "metadata": {},
   "outputs": [],
   "source": [
    "import functions as fn\n",
    "import numpy as np\n",
    "import matplotlib.pyplot as plt"
   ]
  },
  {
   "cell_type": "markdown",
   "metadata": {},
   "source": [
    "Define stimulation properties"
   ]
  },
  {
   "cell_type": "code",
   "execution_count": 8,
   "metadata": {},
   "outputs": [],
   "source": [
    "Sim_period = 3000  # ms\n",
    "Sim_fs = 10000  #Hz\n",
    "\n",
    "Sim_dt = 1/Sim_fs\n",
    "Sim_t = np.arange(0,Sim_period,Sim_dt)"
   ]
  },
  {
   "cell_type": "markdown",
   "metadata": {},
   "source": [
    "### Chirp"
   ]
  },
  {
   "cell_type": "code",
   "execution_count": null,
   "metadata": {},
   "outputs": [],
   "source": [
    "out, freq = fn.gen_chirp(Chirp_init_freq=.001, \n",
    "                         Chirp_init_time=0, \n",
    "                         Chirp_end_freq=.1, \n",
    "                         Chirp_end_time=Sim_t[-1], \n",
    "                         time_points=Sim_t)"
   ]
  },
  {
   "cell_type": "code",
   "execution_count": null,
   "metadata": {},
   "outputs": [],
   "source": [
    "plt.figure(figsize=(20,5))\n",
    "plt.plot(Sim_t, out)\n",
    "plt.show()\n",
    "\n",
    "plt.figure(figsize=(20,5))\n",
    "plt.plot(freq, out)\n",
    "plt.show()\n",
    "\n",
    "print(out.shape, freq.shape)"
   ]
  },
  {
   "cell_type": "markdown",
   "metadata": {},
   "source": [
    "### Sinusoid"
   ]
  },
  {
   "cell_type": "code",
   "execution_count": null,
   "metadata": {},
   "outputs": [],
   "source": [
    "out = fn.gen_sin(init_time=500,\n",
    "                 freq=0.001,\n",
    "                 phase=-100,\n",
    "                 time_points=Sim_t)"
   ]
  },
  {
   "cell_type": "code",
   "execution_count": null,
   "metadata": {},
   "outputs": [],
   "source": [
    "plt.figure(figsize=(20,5))\n",
    "plt.plot(Sim_t, out)\n",
    "plt.show()"
   ]
  },
  {
   "cell_type": "markdown",
   "metadata": {},
   "source": [
    "### Pulse"
   ]
  },
  {
   "cell_type": "code",
   "execution_count": null,
   "metadata": {},
   "outputs": [],
   "source": [
    "out = fn.gen_pulse(init_time=500,\n",
    "                   on_width=10, # width of \"ON\" state\n",
    "                   off_width=50, # width of \"OFF\" state\n",
    "                   time_points=Sim_t)"
   ]
  },
  {
   "cell_type": "code",
   "execution_count": null,
   "metadata": {},
   "outputs": [],
   "source": [
    "plt.figure(figsize=(20,5))\n",
    "plt.plot(Sim_t, out)\n",
    "plt.show()"
   ]
  },
  {
   "cell_type": "code",
   "execution_count": null,
   "metadata": {},
   "outputs": [],
   "source": [
    "out = fn.gen_pulse(init_time=500,\n",
    "                   on_width=2400, # width of \"ON\" state\n",
    "                   off_width=99, # width of \"OFF\" state\n",
    "                   time_points=Sim_t)"
   ]
  },
  {
   "cell_type": "code",
   "execution_count": null,
   "metadata": {},
   "outputs": [],
   "source": [
    "plt.figure(figsize=(20,5))\n",
    "plt.plot(Sim_t, out)\n",
    "plt.show()"
   ]
  },
  {
   "cell_type": "code",
   "execution_count": 10,
   "metadata": {},
   "outputs": [],
   "source": [
    "out = fn.gen_slope(init_time=500,\n",
    "                   end_time= 1000,\n",
    "                   time_points=Sim_t)"
   ]
  },
  {
   "cell_type": "code",
   "execution_count": 11,
   "metadata": {},
   "outputs": [
    {
     "data": {
      "image/png": "[encoded data removed]",
      "text/plain": [
       "<matplotlib.figure.Figure at 0x243545d5f98>"
      ]
     },
     "metadata": {},
     "output_type": "display_data"
    }
   ],
   "source": [
    "plt.figure(figsize=(20,5))\n",
    "plt.plot(Sim_t, out)\n",
    "plt.show()"
   ]
  },
  {
   "cell_type": "code",
   "execution_count": null,
   "metadata": {},
   "outputs": [],
   "source": []
  }
 ],
 "metadata": {
  "kernelspec": {
   "display_name": "Python 3",
   "language": "python",
   "name": "python3"
  },
  "language_info": {
   "codemirror_mode": {
    "name": "ipython",
    "version": 3
   },
   "file_extension": ".py",
   "mimetype": "text/x-python",
   "name": "python",
   "nbconvert_exporter": "python",
   "pygments_lexer": "ipython3",
   "version": "3.5.4"
  }
 },
 "nbformat": 4,
 "nbformat_minor": 2
}
