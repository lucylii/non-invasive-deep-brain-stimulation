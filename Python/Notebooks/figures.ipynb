{
 "cells": [
  {
   "cell_type": "code",
   "execution_count": 1,
   "metadata": {},
   "outputs": [],
   "source": [
    "import numpy as np\n",
    "import matplotlib.pyplot as plt\n",
    "\n",
    "import functions as fn\n",
    "from neuron import MHH, AdExpIF\n",
    "from simulation import Simulation"
   ]
  },
  {
   "cell_type": "markdown",
   "metadata": {},
   "source": [
    "# Figures for the paper"
   ]
  },
  {
   "cell_type": "markdown",
   "metadata": {},
   "source": [
    "### Create a simulation environment"
   ]
  },
  {
   "cell_type": "code",
   "execution_count": 2,
   "metadata": {},
   "outputs": [],
   "source": [
    "mySim = Simulation(Sim_period=5000, Sim_fs=100)"
   ]
  },
  {
   "cell_type": "markdown",
   "metadata": {},
   "source": [
    "### Create a stimulation signal"
   ]
  },
  {
   "cell_type": "code",
   "execution_count": null,
   "metadata": {},
   "outputs": [],
   "source": [
    "I_stim = 2 #* 20.5\n",
    "    \n",
    "I = I_stim * np.ones(mySim.t.shape)  # pA\n",
    "\n",
    "slope = fn.gen_slope(init_time=0,\n",
    "                     end_time=200,\n",
    "                     time_points=mySim.t)\n",
    "\n",
    "# Sinusoid\n",
    "I1 = fn.gen_sin(init_time=0,\n",
    "                freq=.010,\n",
    "                phase=0,\n",
    "                time_points=mySim.t)\n",
    "# I2 = fn.gen_sin(init_time=50,\n",
    "#                 freq=.01,\n",
    "#                 phase=0,\n",
    "#                 time_points=Sim_t)\n",
    "\n",
    "# I = slope * (I_stim * (I3 * .1 + I2 * 1) + 0)\n",
    "I = slope * I_stim * I1\n",
    "\n",
    "\n",
    "\n",
    "# sinusoid + chirp\n",
    "I1 = fn.gen_sin(init_time=0,\n",
    "                freq=1,\n",
    "                phase=0,\n",
    "                time_points=mySim.t)\n",
    "I2 = fn.gen_sin(init_time=0,\n",
    "                freq=1.01,\n",
    "                phase=0,\n",
    "                time_points=mySim.t)\n",
    "\n",
    "I3, freq = fn.gen_chirp(Chirp_init_freq=1.001, \n",
    "                         Chirp_init_time=0, \n",
    "                         Chirp_end_freq=1.02, \n",
    "                         Chirp_end_time=mySim.t[-1], \n",
    "                         time_points=mySim.t)\n",
    "\n",
    "# freq *= 1000  # change from kHz to Hz\n",
    "# I = slope * (I_stim * (.5*I1 + .5*I2))\n",
    "\n",
    "# Chirp stimulation\n",
    "# out, freq = fn.gen_chirp(Chirp_init_freq=.0001, \n",
    "#                          Chirp_init_time=0, \n",
    "#                          Chirp_end_freq=.02, \n",
    "#                          Chirp_end_time=mySim.t[-1], \n",
    "#                          time_points=mySim.t)\n",
    "\n",
    "# I      = I_stim * out  # pA"
   ]
  },
  {
   "cell_type": "code",
   "execution_count": null,
   "metadata": {},
   "outputs": [],
   "source": [
    "plt.figure(figsize=(20,5))\n",
    "plt.plot(mySim.t, I)"
   ]
  },
  {
   "cell_type": "markdown",
   "metadata": {},
   "source": [
    "---"
   ]
  },
  {
   "cell_type": "markdown",
   "metadata": {},
   "source": [
    "### MHH neuron model"
   ]
  },
  {
   "cell_type": "code",
   "execution_count": null,
   "metadata": {},
   "outputs": [],
   "source": [
    "const_params = {\n",
    "    # variable = value xxx Unit\n",
    "    'gNA': 240, # m.mho/cm^2\n",
    "    'gK': 36, # m.mho/cm^2\n",
    "    'gA': 61, # m.mho/cm^2\n",
    "    'gL': 0.068, # m.mho/cm^2\n",
    "    'ENA': 64.7, # mV\n",
    "    'EK': -95.2, # mV\n",
    "    'EL': -51.3, # mV\n",
    "    'C': 1, # uF/cm^2\n",
    "    'Er': -71,\n",
    "    'g_L': 10000,\n",
    "    'L': 1\n",
    "}"
   ]
  },
  {
   "cell_type": "code",
   "execution_count": null,
   "metadata": {},
   "outputs": [],
   "source": [
    "# Na channel: m, h\n",
    "# delayed-rectifier K current: n\n",
    "# slow non-inactivating K current: p, a, \n",
    "tracked_params = ['m', 'h', 'n', 'p', 'a', 'b', \n",
    "                  'u', 'b', 'INA', 'IK', 'IA', 'I_L']"
   ]
  },
  {
   "cell_type": "code",
   "execution_count": null,
   "metadata": {},
   "outputs": [],
   "source": [
    "myNeuron = MHH(const_params=const_params,\n",
    "               tracked_params=tracked_params,\n",
    "               time_points=mySim.t)"
   ]
  },
  {
   "cell_type": "markdown",
   "metadata": {},
   "source": [
    "### Run the simulation"
   ]
  },
  {
   "cell_type": "code",
   "execution_count": null,
   "metadata": {},
   "outputs": [],
   "source": [
    "for i in range(I.shape[0]-1):\n",
    "    myNeuron.update(i, mySim.dt)\n",
    "    \n",
    "# let's block some currents\n",
    "#     myNeuron.I[i] = 0\n",
    "#     myNeuron.INA[i] = 0  # contributing to the integration\n",
    "#     myNeuron.IK[i] = 0  # not sure what is contributing to!\n",
    "#     myNeuron.IA[i] = 0  # contributes to stability and bringing down the membrane potential (so integration as well)\n",
    "\n",
    "    dudt = (myNeuron.INA[i] + myNeuron.IK[i] + myNeuron.IA[i] + myNeuron.IL + I[i]) / myNeuron.C\n",
    "    myNeuron.u[i+1] = myNeuron.u[i] + mySim.dt * dudt"
   ]
  },
  {
   "cell_type": "code",
   "execution_count": null,
   "metadata": {},
   "outputs": [],
   "source": [
    "plt.figure(figsize=(20,3))\n",
    "plt.plot(freq[4500:], myNeuron.u[4500:])\n",
    "plt.show()"
   ]
  },
  {
   "cell_type": "markdown",
   "metadata": {},
   "source": [
    "---"
   ]
  },
  {
   "cell_type": "markdown",
   "metadata": {},
   "source": [
    "#### Figure 3C: MHH response to ZAP input"
   ]
  },
  {
   "cell_type": "code",
   "execution_count": null,
   "metadata": {},
   "outputs": [],
   "source": [
    "# Chirp stimulation\n",
    "I, freq = fn.gen_chirp(Chirp_init_freq=.0001, \n",
    "                       Chirp_init_time=0, \n",
    "                       Chirp_end_freq=.02, \n",
    "                       Chirp_end_time=mySim.t[-1], \n",
    "                       time_points=mySim.t)"
   ]
  },
  {
   "cell_type": "code",
   "execution_count": null,
   "metadata": {},
   "outputs": [],
   "source": [
    "plt.figure(figsize=(20,5))\n",
    "plt.plot(mySim.t, I)"
   ]
  },
  {
   "cell_type": "code",
   "execution_count": null,
   "metadata": {},
   "outputs": [],
   "source": [
    "for i in range(I.shape[0]-1):\n",
    "    myNeuron.update(i, mySim.dt)\n",
    "    dudt = (myNeuron.INA[i] + myNeuron.IK[i] + myNeuron.IA[i] + myNeuron.IL + I[i]) / myNeuron.C\n",
    "    myNeuron.u[i+1] = myNeuron.u[i] + mySim.dt * dudt"
   ]
  },
  {
   "cell_type": "code",
   "execution_count": null,
   "metadata": {},
   "outputs": [],
   "source": [
    "plt.figure(figsize=(20,3))\n",
    "plt.plot(freq[4500:], myNeuron.u[4500:])\n",
    "plt.show()"
   ]
  },
  {
   "cell_type": "markdown",
   "metadata": {},
   "source": [
    "---"
   ]
  },
  {
   "cell_type": "markdown",
   "metadata": {},
   "source": [
    "#### Figure 3D: MHH neuron response to AMZAP"
   ]
  },
  {
   "cell_type": "code",
   "execution_count": null,
   "metadata": {},
   "outputs": [],
   "source": [
    "I1 = fn.gen_sin(init_time=0,\n",
    "                freq=1.0,\n",
    "                phase=0,\n",
    "                time_points=mySim.t)\n",
    "\n",
    "I2, freq = fn.gen_chirp(Chirp_init_freq=1.001, \n",
    "                         Chirp_init_time=0, \n",
    "                         Chirp_end_freq=1.02, \n",
    "                         Chirp_end_time=mySim.t[-1], \n",
    "                         time_points=mySim.t)\n",
    "\n",
    "I = .5*I1 + .5*I2"
   ]
  },
  {
   "cell_type": "code",
   "execution_count": null,
   "metadata": {},
   "outputs": [],
   "source": [
    "plt.figure(figsize=(20,5))\n",
    "plt.plot(mySim.t, I)"
   ]
  },
  {
   "cell_type": "code",
   "execution_count": null,
   "metadata": {},
   "outputs": [],
   "source": [
    "for i in range(I.shape[0]-1):\n",
    "    myNeuron.update(i, mySim.dt)\n",
    "    dudt = (myNeuron.INA[i] + myNeuron.IK[i] + myNeuron.IA[i] + myNeuron.IL + I[i]) / myNeuron.C\n",
    "    myNeuron.u[i+1] = myNeuron.u[i] + mySim.dt * dudt"
   ]
  },
  {
   "cell_type": "code",
   "execution_count": null,
   "metadata": {},
   "outputs": [],
   "source": [
    "plt.figure(figsize=(20,3))\n",
    "plt.plot(freq[4500:], myNeuron.u[4500:])\n",
    "plt.show()"
   ]
  },
  {
   "cell_type": "markdown",
   "metadata": {},
   "source": [
    "---"
   ]
  },
  {
   "cell_type": "markdown",
   "metadata": {},
   "source": [
    "#### MHH neuron response to TI stimulation at the superficial regions"
   ]
  },
  {
   "cell_type": "code",
   "execution_count": null,
   "metadata": {},
   "outputs": [],
   "source": [
    "I1 = fn.gen_sin(init_time=0,\n",
    "                freq=1.0,\n",
    "                phase=0,\n",
    "                time_points=mySim.t)\n",
    "\n",
    "I2 = fn.gen_sin(init_time=0,\n",
    "                freq=1.01,\n",
    "                phase=0,\n",
    "                time_points=mySim.t)\n",
    "\n",
    "I = I1 + I2"
   ]
  },
  {
   "cell_type": "code",
   "execution_count": null,
   "metadata": {},
   "outputs": [],
   "source": [
    "plt.figure(figsize=(20,5))\n",
    "plt.plot(mySim.t, I)"
   ]
  },
  {
   "cell_type": "code",
   "execution_count": null,
   "metadata": {},
   "outputs": [],
   "source": [
    "for i in range(I.shape[0]-1):\n",
    "    myNeuron.update(i, mySim.dt)\n",
    "    dudt = (myNeuron.INA[i] + myNeuron.IK[i] + myNeuron.IA[i] + myNeuron.IL + I[i]) / myNeuron.C\n",
    "    myNeuron.u[i+1] = myNeuron.u[i] + mySim.dt * dudt"
   ]
  },
  {
   "cell_type": "code",
   "execution_count": null,
   "metadata": {},
   "outputs": [],
   "source": [
    "plt.figure(figsize=(20,3))\n",
    "plt.plot(freq[4500:], myNeuron.u[4500:])\n",
    "plt.show()"
   ]
  },
  {
   "cell_type": "markdown",
   "metadata": {},
   "source": [
    "---"
   ]
  },
  {
   "cell_type": "markdown",
   "metadata": {},
   "source": [
    "#### MHH neuron response to TI stimulation at depth"
   ]
  },
  {
   "cell_type": "code",
   "execution_count": null,
   "metadata": {},
   "outputs": [],
   "source": [
    "I1 = fn.gen_sin(init_time=0,\n",
    "                freq=1.0,\n",
    "                phase=0,\n",
    "                time_points=mySim.t)\n",
    "\n",
    "I2 = fn.gen_sin(init_time=0,\n",
    "                freq=1.01,\n",
    "                phase=0,\n",
    "                time_points=mySim.t)\n",
    "\n",
    "I = I1 + I2"
   ]
  },
  {
   "cell_type": "code",
   "execution_count": null,
   "metadata": {},
   "outputs": [],
   "source": [
    "plt.figure(figsize=(20,5))\n",
    "plt.plot(mySim.t, I)"
   ]
  },
  {
   "cell_type": "code",
   "execution_count": null,
   "metadata": {},
   "outputs": [],
   "source": [
    "for i in range(I.shape[0]-1):\n",
    "    myNeuron.update(i, mySim.dt)\n",
    "    dudt = (myNeuron.INA[i] + myNeuron.IK[i] + myNeuron.IA[i] + myNeuron.IL + I[i]) / myNeuron.C\n",
    "    myNeuron.u[i+1] = myNeuron.u[i] + mySim.dt * dudt"
   ]
  },
  {
   "cell_type": "code",
   "execution_count": null,
   "metadata": {},
   "outputs": [],
   "source": [
    "plt.figure(figsize=(20,3))\n",
    "plt.plot(freq[4500:], myNeuron.u[4500:])\n",
    "plt.show()"
   ]
  },
  {
   "cell_type": "markdown",
   "metadata": {},
   "source": [
    "---"
   ]
  },
  {
   "cell_type": "markdown",
   "metadata": {},
   "source": [
    "#### MHH neuron response to direct 10 Hz stimulation"
   ]
  },
  {
   "cell_type": "code",
   "execution_count": null,
   "metadata": {},
   "outputs": [],
   "source": [
    "I = fn.gen_sin(init_time=0,\n",
    "               freq=.01,\n",
    "               phase=0,\n",
    "               time_points=mySim.t)"
   ]
  },
  {
   "cell_type": "code",
   "execution_count": null,
   "metadata": {},
   "outputs": [],
   "source": [
    "plt.figure(figsize=(20,5))\n",
    "plt.plot(mySim.t, I)"
   ]
  },
  {
   "cell_type": "code",
   "execution_count": null,
   "metadata": {},
   "outputs": [],
   "source": [
    "for i in range(I.shape[0]-1):\n",
    "    myNeuron.update(i, mySim.dt)\n",
    "    dudt = (myNeuron.INA[i] + myNeuron.IK[i] + myNeuron.IA[i] + myNeuron.IL + I[i]) / myNeuron.C\n",
    "    myNeuron.u[i+1] = myNeuron.u[i] + mySim.dt * dudt"
   ]
  },
  {
   "cell_type": "code",
   "execution_count": null,
   "metadata": {},
   "outputs": [],
   "source": [
    "plt.figure(figsize=(20,3))\n",
    "plt.plot(freq[4500:], myNeuron.u[4500:])\n",
    "plt.show()"
   ]
  },
  {
   "cell_type": "markdown",
   "metadata": {},
   "source": [
    "---"
   ]
  },
  {
   "cell_type": "markdown",
   "metadata": {},
   "source": [
    "#### MHH neuron response to AM 10 Hz stimulation"
   ]
  },
  {
   "cell_type": "code",
   "execution_count": null,
   "metadata": {},
   "outputs": [],
   "source": [
    "I1 = fn.gen_sin(init_time=0,\n",
    "                freq=1.0,\n",
    "                phase=0,\n",
    "                time_points=mySim.t)\n",
    "\n",
    "I2 = fn.gen_sin(init_time=0,\n",
    "                freq=1.01,\n",
    "                phase=0,\n",
    "                time_points=mySim.t)\n",
    "\n",
    "I = I1 + I2"
   ]
  },
  {
   "cell_type": "code",
   "execution_count": null,
   "metadata": {},
   "outputs": [],
   "source": [
    "plt.figure(figsize=(20,5))\n",
    "plt.plot(mySim.t, I)"
   ]
  },
  {
   "cell_type": "code",
   "execution_count": null,
   "metadata": {},
   "outputs": [],
   "source": [
    "for i in range(I.shape[0]-1):\n",
    "    myNeuron.update(i, mySim.dt)\n",
    "    dudt = (myNeuron.INA[i] + myNeuron.IK[i] + myNeuron.IA[i] + myNeuron.IL + I[i]) / myNeuron.C\n",
    "    myNeuron.u[i+1] = myNeuron.u[i] + mySim.dt * dudt"
   ]
  },
  {
   "cell_type": "code",
   "execution_count": null,
   "metadata": {},
   "outputs": [],
   "source": [
    "plt.figure(figsize=(20,3))\n",
    "plt.plot(freq[4500:], myNeuron.u[4500:])\n",
    "plt.show()"
   ]
  },
  {
   "cell_type": "markdown",
   "metadata": {},
   "source": [
    "---"
   ]
  },
  {
   "cell_type": "markdown",
   "metadata": {},
   "source": [
    "### Adaptive Exponential Integrate and Fire (AdExpIF) neuron model"
   ]
  },
  {
   "cell_type": "code",
   "execution_count": 3,
   "metadata": {},
   "outputs": [],
   "source": [
    "const_params = {\n",
    "    'C': 130,  # pF - membrane capacitance\n",
    "    'gL': 1,  # nS - leak conductance\n",
    "    'EL': -70.6,  # mV\n",
    "    'VT': -50.6,  # mV\n",
    "    'dT': 2,  # mV\n",
    "    'tauw': 300,  # ms adaptation time-constant\n",
    "    'a': 30,  # mS - subthreshold oscillation parameter\n",
    "    'b': 80.5,  # pA - spike-triggered adaptation constants\n",
    "    'vpeak': 20,  # mV\n",
    "    'taum': 130/1  # C/gL\n",
    "}\n",
    "\n",
    "tracked_params = ['v', 'w']"
   ]
  },
  {
   "cell_type": "code",
   "execution_count": 4,
   "metadata": {},
   "outputs": [],
   "source": [
    "myNeuron = AdExpIF(const_params=const_params,\n",
    "                   tracked_params=tracked_params,\n",
    "                   time_points=mySim.t)"
   ]
  },
  {
   "cell_type": "code",
   "execution_count": 5,
   "metadata": {},
   "outputs": [],
   "source": [
    "I_stim = 80 * 270\n",
    "\n",
    "slope = fn.gen_slope(init_time=0,\n",
    "                     end_time=200,\n",
    "                     time_points=mySim.t)\n",
    "\n",
    "# Sin\n",
    "I1 = fn.gen_sin(freq=.005,\n",
    "                time_points=mySim.t)\n",
    "\n",
    "I = I_stim * I1\n",
    "\n",
    "# AM\n",
    "I1 = fn.gen_sin(freq=1.005,\n",
    "                time_points=mySim.t)\n",
    "I2 = fn.gen_sin(freq=1,\n",
    "                time_points=mySim.t)\n",
    "\n",
    "I = slope * I_stim * (.5*I1 + .5*I2)"
   ]
  },
  {
   "cell_type": "code",
   "execution_count": 11,
   "metadata": {},
   "outputs": [
    {
     "data": {
      "image/png": "[encoded data removed]",
      "text/plain": [
       "<matplotlib.figure.Figure at 0x15cb035b278>"
      ]
     },
     "metadata": {},
     "output_type": "display_data"
    }
   ],
   "source": [
    "plt.figure(figsize=(20,3))\n",
    "plt.plot(mySim.t, I)\n",
    "plt.show()"
   ]
  },
  {
   "cell_type": "code",
   "execution_count": 6,
   "metadata": {},
   "outputs": [],
   "source": [
    "for i in range(I.shape[0]-1):\n",
    "    myNeuron.update(I[i], i, mySim.dt)"
   ]
  },
  {
   "cell_type": "code",
   "execution_count": 10,
   "metadata": {},
   "outputs": [
    {
     "data": {
      "image/png": "[encoded data removed]",
      "text/plain": [
       "<matplotlib.figure.Figure at 0x15caf9c5eb8>"
      ]
     },
     "metadata": {},
     "output_type": "display_data"
    }
   ],
   "source": [
    "plt.figure(figsize=(20,5))\n",
    "plt.plot(mySim.t, myNeuron.v)\n",
    "plt.show()"
   ]
  },
  {
   "cell_type": "code",
   "execution_count": null,
   "metadata": {},
   "outputs": [],
   "source": []
  }
 ],
 "metadata": {
  "kernelspec": {
   "display_name": "Python 3",
   "language": "python",
   "name": "python3"
  },
  "language_info": {
   "codemirror_mode": {
    "name": "ipython",
    "version": 3
   },
   "file_extension": ".py",
   "mimetype": "text/x-python",
   "name": "python",
   "nbconvert_exporter": "python",
   "pygments_lexer": "ipython3",
   "version": "3.5.4"
  }
 },
 "nbformat": 4,
 "nbformat_minor": 2
}
