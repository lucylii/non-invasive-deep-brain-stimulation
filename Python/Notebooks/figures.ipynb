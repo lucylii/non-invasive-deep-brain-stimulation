{
 "cells": [
  {
   "cell_type": "code",
   "execution_count": 1,
   "metadata": {},
   "outputs": [
    {
     "ename": "IndentationError",
     "evalue": "unindent does not match any outer indentation level (neuron.py, line 32)",
     "output_type": "error",
     "traceback": [
      "Traceback \u001b[1;36m(most recent call last)\u001b[0m:\n",
      "  File \u001b[0;32m\"c:\\users\\mohammad bashiri\\anaconda3\\envs\\neuron\\lib\\site-packages\\IPython\\core\\interactiveshell.py\"\u001b[0m, line \u001b[0;32m2910\u001b[0m, in \u001b[0;35mrun_code\u001b[0m\n    exec(code_obj, self.user_global_ns, self.user_ns)\n",
      "\u001b[1;36m  File \u001b[1;32m\"<ipython-input-1-24eac9ee5961>\"\u001b[1;36m, line \u001b[1;32m3\u001b[1;36m, in \u001b[1;35m<module>\u001b[1;36m\u001b[0m\n\u001b[1;33m    from neuron import MHH\u001b[0m\n",
      "\u001b[1;36m  File \u001b[1;32m\"D:\\Projects\\Repositories\\NIDBS\\Python\\Notebooks\\neuron.py\"\u001b[1;36m, line \u001b[1;32m32\u001b[0m\n\u001b[1;33m    def update(self, i):\u001b[0m\n\u001b[1;37m                        ^\u001b[0m\n\u001b[1;31mIndentationError\u001b[0m\u001b[1;31m:\u001b[0m unindent does not match any outer indentation level\n"
     ]
    }
   ],
   "source": [
    "import numpy as np\n",
    "\n",
    "from neuron import MHH\n",
    "from simulation import Simulation"
   ]
  },
  {
   "cell_type": "markdown",
   "metadata": {},
   "source": [
    "# Figures for the paper"
   ]
  },
  {
   "cell_type": "markdown",
   "metadata": {},
   "source": [
    "Create a simulation environment"
   ]
  },
  {
   "cell_type": "code",
   "execution_count": null,
   "metadata": {},
   "outputs": [],
   "source": [
    "mySim = Simulation(Sim_period=5000, Sim_fs=100)"
   ]
  },
  {
   "cell_type": "markdown",
   "metadata": {},
   "source": [
    "### MHH neuron model"
   ]
  },
  {
   "cell_type": "code",
   "execution_count": null,
   "metadata": {},
   "outputs": [],
   "source": [
    "neuronParams = {\n",
    "    # variable = value xxx Unit\n",
    "    'gNA': 240, # m.mho/cm^2\n",
    "    'gK': 36, # m.mho/cm^2\n",
    "    'gA': 61, # m.mho/cm^2\n",
    "    'gL': 0.068, # m.mho/cm^2\n",
    "    'ENA': 64.7, # mV\n",
    "    'EK': -95.2, # mV\n",
    "    'EL': -51.3, # mV\n",
    "    'C': 1, # uF/cm^2\n",
    "    'Er': -71,\n",
    "    'g_L': 10000,\n",
    "    'L': 1\n",
    "}"
   ]
  },
  {
   "cell_type": "code",
   "execution_count": null,
   "metadata": {},
   "outputs": [],
   "source": [
    "myNeuron = MHH(neuronParams)"
   ]
  },
  {
   "cell_type": "code",
   "execution_count": null,
   "metadata": {},
   "outputs": [],
   "source": [
    "myNeuron.params"
   ]
  },
  {
   "cell_type": "markdown",
   "metadata": {},
   "source": [
    "There are some parameters of the neuron we would like to keep track of:"
   ]
  },
  {
   "cell_type": "code",
   "execution_count": null,
   "metadata": {},
   "outputs": [],
   "source": [
    "# Na channel\n",
    "myNeuron.m = np.zeros(mySim.t.shape)\n",
    "myNeuron.h = np.zeros(mySim.t.shape)\n",
    "\n",
    "# delayed-rectifier K current\n",
    "myNeuron.n = np.zeros(mySim.t.shape)\n",
    "\n",
    "# slow non-inactivating K current\n",
    "myNeuron.p = np.zeros(mySim.t.shape)\n",
    "myNeuron.a = np.zeros(mySim.t.shape);\n",
    "myNeuron.b = np.zeros(mySim.t.shape);\n",
    "\n",
    "myNeuron.u    = np.ones(mySim.t.shape) * myNeuron.Er\n",
    "myNeuron.INA  = np.zeros(mySim.t.shape)\n",
    "myNeuron.IK  = np.zeros(mySim.t.shape)\n",
    "myNeuron.IA   = np.zeros(mySim.t.shape)\n",
    "myNeuron.I_L   = np.zeros(mySim.t.shape)"
   ]
  },
  {
   "cell_type": "markdown",
   "metadata": {},
   "source": [
    "### Create a stimulation signal"
   ]
  },
  {
   "cell_type": "code",
   "execution_count": null,
   "metadata": {},
   "outputs": [],
   "source": [
    "I_stim: 2 #* 20.5"
   ]
  },
  {
   "cell_type": "markdown",
   "metadata": {},
   "source": [
    "### Run the simulation"
   ]
  },
  {
   "cell_type": "code",
   "execution_count": null,
   "metadata": {},
   "outputs": [],
   "source": [
    "for i in range(I.shape[0]-1):\n",
    "    myNeuron.update(i)\n",
    "    \n",
    "# let's block some currents\n",
    "#     myNeuron.I[i] = 0\n",
    "#     myNeuron.INA[i] = 0  # contributing to the integration\n",
    "#     myNeuron.IK[i] = 0  # not sure what is contributing to!\n",
    "#     myNeuron.IA[i] = 0  # contributes to stability and bringing down the membrane potential (so integration as well)\n",
    "\n",
    "    dudt = (myNeuron.INA[i] + myNeuron.IK[i] + myNeuron.IA[i] + myNeuron.IL + I[i]) / myNeuron.C\n",
    "    myNeuron.u[i+1] = myNeuron.u[i] + mySim.dt * dudt"
   ]
  }
 ],
 "metadata": {
  "kernelspec": {
   "display_name": "Python 3",
   "language": "python",
   "name": "python3"
  },
  "language_info": {
   "codemirror_mode": {
    "name": "ipython",
    "version": 3
   },
   "file_extension": ".py",
   "mimetype": "text/x-python",
   "name": "python",
   "nbconvert_exporter": "python",
   "pygments_lexer": "ipython3",
   "version": "3.5.4"
  }
 },
 "nbformat": 4,
 "nbformat_minor": 2
}
