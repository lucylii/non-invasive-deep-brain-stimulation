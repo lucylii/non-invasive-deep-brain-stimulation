{
 "cells": [
  {
   "cell_type": "markdown",
   "metadata": {},
   "source": [
    "In this notebook we model the resonance equivalent circuit, shown below"
   ]
  },
  {
   "cell_type": "markdown",
   "metadata": {},
   "source": [
    "![equivalen_circuit](res_equivalentCircuit.PNG)"
   ]
  },
  {
   "cell_type": "markdown",
   "metadata": {},
   "source": [
    "Import useful libraries"
   ]
  },
  {
   "cell_type": "code",
   "execution_count": 1,
   "metadata": {},
   "outputs": [],
   "source": [
    "import functions as fn\n",
    "import numpy as np\n",
    "import matplotlib.pyplot as plt"
   ]
  },
  {
   "cell_type": "markdown",
   "metadata": {},
   "source": [
    "Define simulation parameters"
   ]
  },
  {
   "cell_type": "code",
   "execution_count": 2,
   "metadata": {},
   "outputs": [],
   "source": [
    "Sim_period = 100000\n",
    "Sim_fs   = 10\n",
    "\n",
    "Sim_dt = 1/Sim_fs\n",
    "Sim_t = np.arange(0,Sim_period,Sim_dt)"
   ]
  },
  {
   "cell_type": "markdown",
   "metadata": {},
   "source": [
    "Membrane parameters initialization"
   ]
  },
  {
   "cell_type": "code",
   "execution_count": 3,
   "metadata": {},
   "outputs": [
    {
     "name": "stdout",
     "output_type": "stream",
     "text": [
      "0.01\n"
     ]
    }
   ],
   "source": [
    "g_leak = 1\n",
    "g_Na = .01\n",
    "g_L = 1\n",
    "L = .01\n",
    "C = 100\n",
    "V_leak = 0\n",
    "V_Na = 0\n",
    "\n",
    "tau_L = g_L * L\n",
    "print(tau_L)\n",
    "\n",
    "I_stim = 1"
   ]
  },
  {
   "cell_type": "markdown",
   "metadata": {},
   "source": [
    "### Parameter set 1"
   ]
  },
  {
   "cell_type": "code",
   "execution_count": 14,
   "metadata": {},
   "outputs": [],
   "source": [
    "g_leak = 1 / (56.7e8)\n",
    "g_Na = .01\n",
    "g_L = 1 / (46.1e4) # decrease the power of 10 for this and C to scale the impedance (does not change fres)\n",
    "L = 1.26\n",
    "C = 3.1e-5\n",
    "V_leak = 0\n",
    "V_Na = 0\n",
    "\n",
    "I_stim = 200e-9"
   ]
  },
  {
   "cell_type": "markdown",
   "metadata": {},
   "source": [
    "### Parameter set 2"
   ]
  },
  {
   "cell_type": "code",
   "execution_count": 13,
   "metadata": {},
   "outputs": [],
   "source": [
    "g_leak = 1 / (56.7e8)\n",
    "g_Na = .01\n",
    "g_L = 1 / (80e5)\n",
    "L = 1.26\n",
    "C = 3.1e-7\n",
    "V_leak = 0\n",
    "V_Na = 0\n",
    "\n",
    "I_stim = 200e-9"
   ]
  },
  {
   "cell_type": "markdown",
   "metadata": {},
   "source": [
    "### Parameter set 3"
   ]
  },
  {
   "cell_type": "code",
   "execution_count": 6,
   "metadata": {},
   "outputs": [],
   "source": [
    "g_leak = 1 / (56.7e8)\n",
    "g_Na = .01\n",
    "g_L = 1 / (80e3)\n",
    "L = 1.26\n",
    "C = 3.1e-5\n",
    "V_leak = 0\n",
    "V_Na = 0\n",
    "\n",
    "I_stim = 200e-9"
   ]
  },
  {
   "cell_type": "markdown",
   "metadata": {},
   "source": [
    "### Parameter set 4"
   ]
  },
  {
   "cell_type": "code",
   "execution_count": 7,
   "metadata": {},
   "outputs": [],
   "source": [
    "g_leak = 1 / (56.7e8)\n",
    "g_Na = .01\n",
    "g_L = 1 / (46.1e4)\n",
    "L = 1.26\n",
    "C = 3.1e-6\n",
    "V_leak = 0\n",
    "V_Na = 0\n",
    "\n",
    "I_stim = 200e-9"
   ]
  },
  {
   "cell_type": "code",
   "execution_count": 8,
   "metadata": {},
   "outputs": [],
   "source": [
    "Vm = np.zeros(Sim_t.shape)\n",
    "I_L = np.zeros(Sim_t.shape)"
   ]
  },
  {
   "cell_type": "markdown",
   "metadata": {},
   "source": [
    "For non-linearity, we are using the Boltzman function. And here are the parameters"
   ]
  },
  {
   "cell_type": "code",
   "execution_count": 9,
   "metadata": {},
   "outputs": [],
   "source": [
    "V_half = 0\n",
    "k = 1\n",
    "Boltzman_nl = np.zeros(Vm.shape)"
   ]
  },
  {
   "cell_type": "markdown",
   "metadata": {},
   "source": [
    "stimulation"
   ]
  },
  {
   "cell_type": "code",
   "execution_count": 10,
   "metadata": {},
   "outputs": [],
   "source": [
    "I = I_stim * np.ones(Sim_t.shape)  # pA\n",
    "\n",
    "# I1 = fn.gen_sin(init_time=0,\n",
    "#                 freq=0.01,\n",
    "#                 phase=-0,\n",
    "#                 time_points=Sim_t)\n",
    "# I2 = fn.gen_sin(init_time=0,\n",
    "#                 freq=0.011,\n",
    "#                 phase=-0,\n",
    "#                 time_points=Sim_t)\n",
    "\n",
    "# I = I1\n",
    "\n",
    "# Chirp stimulation\n",
    "out, freq = fn.gen_chirp(Chirp_init_freq=.00000001, \n",
    "                         Chirp_init_time=0, \n",
    "                         Chirp_end_freq=.02, \n",
    "                         Chirp_end_time=Sim_t[-1], \n",
    "                         time_points=Sim_t)\n",
    "\n",
    "I      = I_stim * out  # pA"
   ]
  },
  {
   "cell_type": "code",
   "execution_count": 11,
   "metadata": {},
   "outputs": [
    {
     "name": "stderr",
     "output_type": "stream",
     "text": [
      "c:\\users\\mohammad bashiri\\anaconda3\\envs\\neuron\\lib\\site-packages\\ipykernel_launcher.py:4: RuntimeWarning: overflow encountered in exp\n",
      "  after removing the cwd from sys.path.\n",
      "c:\\users\\mohammad bashiri\\anaconda3\\envs\\neuron\\lib\\site-packages\\ipykernel_launcher.py:18: RuntimeWarning: overflow encountered in double_scalars\n",
      "c:\\users\\mohammad bashiri\\anaconda3\\envs\\neuron\\lib\\site-packages\\ipykernel_launcher.py:11: RuntimeWarning: invalid value encountered in double_scalars\n",
      "  # This is added back by InteractiveShellApp.init_path()\n"
     ]
    }
   ],
   "source": [
    "for i in range(I.shape[0]-1):\n",
    "    \n",
    "    # Boltzmann non-linearity\n",
    "    Boltzman_nl[i] = k / (1 + np.exp(V_half - Vm[i]))\n",
    "    Boltzman_nl[i] = 0\n",
    "    \n",
    "    # current through the leak branch\n",
    "    I_leak = g_leak*(Vm[i]-V_leak)\n",
    "    \n",
    "    # current through the membrane capacitance\n",
    "    I_Na = g_Na*(Boltzman_nl[i]**3)*(Vm[i]-V_Na)\n",
    "    \n",
    "    # current through the inductor\n",
    "    I_L_ss = Vm[i] * g_L\n",
    "    dILdt = (I_L_ss - I_L[i]) / tau_L\n",
    "    I_L[i+1] = I_L[i] + dILdt * Sim_dt\n",
    "    \n",
    "    dVmdt = (I[i] - I_leak - I_Na - I_L[i]) / C\n",
    "    Vm[i+1] = Vm[i] + dVmdt * Sim_dt"
   ]
  },
  {
   "cell_type": "code",
   "execution_count": 12,
   "metadata": {},
   "outputs": [
    {
     "data": {
      "image/png": "[encoded data removed]",
      "text/plain": [
       "<matplotlib.figure.Figure at 0x2006d6c75f8>"
      ]
     },
     "metadata": {},
     "output_type": "display_data"
    },
    {
     "data": {
      "image/png": "[encoded data removed]",
      "text/plain": [
       "<matplotlib.figure.Figure at 0x2006fd7ba90>"
      ]
     },
     "metadata": {},
     "output_type": "display_data"
    },
    {
     "data": {
      "image/png": "[encoded data removed]",
      "text/plain": [
       "<matplotlib.figure.Figure at 0x20070113fd0>"
      ]
     },
     "metadata": {},
     "output_type": "display_data"
    },
    {
     "data": {
      "image/png": "[encoded data removed]",
      "text/plain": [
       "<matplotlib.figure.Figure at 0x20070128518>"
      ]
     },
     "metadata": {},
     "output_type": "display_data"
    }
   ],
   "source": [
    "plt.figure(figsize=(20,2))\n",
    "plt.plot(Sim_t, I)\n",
    "plt.show()\n",
    "\n",
    "plt.figure(figsize=(20,5))\n",
    "plt.plot(Sim_t, Vm)\n",
    "plt.show()\n",
    "\n",
    "plt.figure(figsize=(20,2))\n",
    "plt.plot(Sim_t, I_L)\n",
    "plt.show()\n",
    "\n",
    "plt.figure(figsize=(20,2))\n",
    "plt.plot(Sim_t, Boltzman_nl)\n",
    "plt.show()"
   ]
  },
  {
   "cell_type": "code",
   "execution_count": null,
   "metadata": {},
   "outputs": [],
   "source": []
  }
 ],
 "metadata": {
  "kernelspec": {
   "display_name": "Python 3",
   "language": "python",
   "name": "python3"
  },
  "language_info": {
   "codemirror_mode": {
    "name": "ipython",
    "version": 3
   },
   "file_extension": ".py",
   "mimetype": "text/x-python",
   "name": "python",
   "nbconvert_exporter": "python",
   "pygments_lexer": "ipython3",
   "version": "3.5.4"
  }
 },
 "nbformat": 4,
 "nbformat_minor": 2
}
