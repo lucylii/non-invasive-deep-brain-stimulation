{
 "cells": [
  {
   "cell_type": "markdown",
   "metadata": {},
   "source": [
    "## Models included in the Book: Dynamical Systems in Neuroscience"
   ]
  },
  {
   "cell_type": "markdown",
   "metadata": {},
   "source": [
    "Import useful libraries"
   ]
  },
  {
   "cell_type": "code",
   "execution_count": 2,
   "metadata": {},
   "outputs": [],
   "source": [
    "import numpy as np\n",
    "import matplotlib.pyplot as plt"
   ]
  },
  {
   "cell_type": "markdown",
   "metadata": {},
   "source": [
    "Define simulation parameters"
   ]
  },
  {
   "cell_type": "code",
   "execution_count": 3,
   "metadata": {},
   "outputs": [],
   "source": [
    "Sim_period = 1000 # ms\n",
    "Sim_fs   = 1000\n",
    "\n",
    "dt   = 1/Sim_fs\n",
    "t    = np.arange(0,Sim_period,dt)"
   ]
  },
  {
   "cell_type": "markdown",
   "metadata": {},
   "source": [
    "### 8.1.2 Resonate and Fire"
   ]
  },
  {
   "cell_type": "code",
   "execution_count": 65,
   "metadata": {},
   "outputs": [],
   "source": [
    "Cm = 1\n",
    "g_leak = 1\n",
    "E_leak = 1\n",
    "k = .1\n",
    "Vpeak = 89\n",
    "Vrest = 0\n",
    "Vm = np.zeros(t.shape[0])\n",
    "W = np.zeros(t.shape[0])"
   ]
  },
  {
   "cell_type": "code",
   "execution_count": 66,
   "metadata": {},
   "outputs": [],
   "source": [
    "I_stim = np.ones(t.shape)"
   ]
  },
  {
   "cell_type": "code",
   "execution_count": 67,
   "metadata": {},
   "outputs": [],
   "source": [
    "for i in range(1, t.shape[0]):\n",
    "    \n",
    "    dVmdt = (I_stim[i] - g_leak*(Vm[i] - E_leak) - W[i]) / Cm\n",
    "    Vm[i] = Vm[i-1] + dVmdt * dt\n",
    "    \n",
    "    dWdt = (Vm[i-1] - .5*Vm[i-1]) / k - W[i-1]\n",
    "    W[i] = W[i-1] + dWdt * dt\n",
    "    \n",
    "    \n",
    "    if Vm[i] > Vpeak:\n",
    "        Vm[i] = Vreset"
   ]
  },
  {
   "cell_type": "code",
   "execution_count": 68,
   "metadata": {},
   "outputs": [
    {
     "data": {
      "image/png": "[encoded data removed]",
      "text/plain": [
       "<matplotlib.figure.Figure at 0x1a6b86f2d68>"
      ]
     },
     "metadata": {},
     "output_type": "display_data"
    }
   ],
   "source": [
    "plt.plot(t, Vm)\n",
    "plt.show()"
   ]
  },
  {
   "cell_type": "markdown",
   "metadata": {},
   "source": [
    "### 8.1.3 Quadratic Integrate and Fire"
   ]
  },
  {
   "cell_type": "code",
   "execution_count": 24,
   "metadata": {},
   "outputs": [],
   "source": [
    "b = 0.001\n",
    "Vm = np.zeros(t.shape[0])\n",
    "Vpeak = 89\n",
    "Vreset = 0"
   ]
  },
  {
   "cell_type": "code",
   "execution_count": 27,
   "metadata": {},
   "outputs": [],
   "source": [
    "for i in range(1, t.shape[0]):\n",
    "    \n",
    "    dVmdt = b + Vm[i-1]**2\n",
    "    Vm[i] = Vm[i-1] + dVmdt * dt\n",
    "    \n",
    "    if Vm[i] > Vpeak:\n",
    "        Vm[i] = Vreset"
   ]
  },
  {
   "cell_type": "code",
   "execution_count": 28,
   "metadata": {},
   "outputs": [
    {
     "data": {
      "image/png": "[encoded data removed]",
      "text/plain": [
       "<matplotlib.figure.Figure at 0x1a6b7285dd8>"
      ]
     },
     "metadata": {},
     "output_type": "display_data"
    }
   ],
   "source": [
    "plt.plot(t, Vm)\n",
    "plt.show()"
   ]
  },
  {
   "cell_type": "markdown",
   "metadata": {},
   "source": [
    "### 8.1.4 Simple Model"
   ]
  },
  {
   "cell_type": "markdown",
   "metadata": {},
   "source": [
    "$v$ -> membrane potential <br/>\n",
    "$u$ -> recovery current <br/>\n",
    "$C$ -> membrane capacitance <br/>\n",
    "$v_r$ -> resting membrane potential <br/>\n",
    "$v_t$ -> intantaneous threshold potential <br/>\n",
    "$a$ -> recovery time-constant <br/>\n",
    "$c$ -> voltage reset value <br/>\n",
    "$v_{peak}$ -> spike cut-off value <br/>\n",
    "$d$ -> describes the total amount of outward minus inward currents activated during the spike and a®ecting the after-spike behavior.\n",
    "\n",
    "the parameters k and b can be found when one knows the neuron's rheobase and input resistance. The sign of b determines whether u is an amplifying (b < 0) or a resonant (b > 0) variable.\n",
    "\n",
    "All these parameters can easily be ¯tted to any particular neuron type, as we show in subsequent sections."
   ]
  },
  {
   "cell_type": "markdown",
   "metadata": {},
   "source": [
    "#### Parameters used for RS neocortical pyramidal neurons"
   ]
  },
  {
   "cell_type": "code",
   "execution_count": 3,
   "metadata": {},
   "outputs": [],
   "source": [
    "C     = 100 # pF\n",
    "vr    = -60 # mV\n",
    "vt    = -40 # mV\n",
    "k     = .7\n",
    "a     = .03 # ms\n",
    "b     = -2\n",
    "c     = -50\n",
    "d     = 100\n",
    "\n",
    "vpeak = 35  # spike cutoff (mV)\n",
    "\n",
    "I_stim = 70;"
   ]
  },
  {
   "cell_type": "markdown",
   "metadata": {},
   "source": [
    "#### Figure 8.15 (parameters of 8.12 and b=5) - resonator "
   ]
  },
  {
   "cell_type": "code",
   "execution_count": 149,
   "metadata": {},
   "outputs": [],
   "source": [
    "C     = 100 # pF\n",
    "vr    = -60 # mV\n",
    "vt    = -40 # mV\n",
    "k     = .7\n",
    "a     = .03 # ms\n",
    "b     = 5\n",
    "c     = -50\n",
    "d     = 100\n",
    "\n",
    "vpeak = 35  # spike cutoff (mV)\n",
    "\n",
    "I_stim = 200; "
   ]
  },
  {
   "cell_type": "markdown",
   "metadata": {},
   "source": [
    "#### Hasselmo,2014"
   ]
  },
  {
   "cell_type": "code",
   "execution_count": 4,
   "metadata": {},
   "outputs": [],
   "source": [
    "C     = 200 # pF\n",
    "vr    = -60 # mV\n",
    "vt    = -45 # mV\n",
    "k     = .75\n",
    "a     = .01 # ms # decreasing increases the subthreshold oscillation\n",
    "b     = 15\n",
    "c     = -50\n",
    "d     = 100\n",
    "\n",
    "vpeak = 30  # spike cutoff (mV)\n",
    "\n",
    "I_stim = 165; "
   ]
  },
  {
   "cell_type": "code",
   "execution_count": 5,
   "metadata": {},
   "outputs": [],
   "source": [
    "v     = vr * np.ones(t.shape); \n",
    "u     = 0 * v; "
   ]
  },
  {
   "cell_type": "code",
   "execution_count": 6,
   "metadata": {},
   "outputs": [],
   "source": [
    "I      = I_stim * np.ones(t.shape)  # pA"
   ]
  },
  {
   "cell_type": "code",
   "execution_count": 7,
   "metadata": {},
   "outputs": [],
   "source": [
    "spike_count = 0"
   ]
  },
  {
   "cell_type": "code",
   "execution_count": 1,
   "metadata": {},
   "outputs": [
    {
     "ename": "NameError",
     "evalue": "name 't' is not defined",
     "output_type": "error",
     "traceback": [
      "\u001b[1;31m---------------------------------------------------------------------------\u001b[0m",
      "\u001b[1;31mNameError\u001b[0m                                 Traceback (most recent call last)",
      "\u001b[1;32m<ipython-input-1-5c0e859465c6>\u001b[0m in \u001b[0;36m<module>\u001b[1;34m()\u001b[0m\n\u001b[1;32m----> 1\u001b[1;33m \u001b[1;32mfor\u001b[0m \u001b[0mi\u001b[0m \u001b[1;32min\u001b[0m \u001b[0mrange\u001b[0m\u001b[1;33m(\u001b[0m\u001b[0mt\u001b[0m\u001b[1;33m.\u001b[0m\u001b[0mshape\u001b[0m\u001b[1;33m[\u001b[0m\u001b[1;36m0\u001b[0m\u001b[1;33m]\u001b[0m\u001b[1;33m-\u001b[0m\u001b[1;36m1\u001b[0m\u001b[1;33m)\u001b[0m\u001b[1;33m:\u001b[0m\u001b[1;33m\u001b[0m\u001b[0m\n\u001b[0m\u001b[0;32m      2\u001b[0m \u001b[1;33m\u001b[0m\u001b[0m\n\u001b[0;32m      3\u001b[0m     \u001b[1;31m# forward Euler method\u001b[0m\u001b[1;33m\u001b[0m\u001b[1;33m\u001b[0m\u001b[0m\n\u001b[0;32m      4\u001b[0m     \u001b[0mdvdt\u001b[0m   \u001b[1;33m=\u001b[0m \u001b[0mdt\u001b[0m \u001b[1;33m*\u001b[0m \u001b[1;33m(\u001b[0m\u001b[0mk\u001b[0m\u001b[1;33m*\u001b[0m\u001b[1;33m(\u001b[0m\u001b[0mv\u001b[0m\u001b[1;33m[\u001b[0m\u001b[0mi\u001b[0m\u001b[1;33m]\u001b[0m\u001b[1;33m-\u001b[0m\u001b[0mvr\u001b[0m\u001b[1;33m)\u001b[0m\u001b[1;33m*\u001b[0m\u001b[1;33m(\u001b[0m\u001b[0mv\u001b[0m\u001b[1;33m[\u001b[0m\u001b[0mi\u001b[0m\u001b[1;33m]\u001b[0m\u001b[1;33m-\u001b[0m\u001b[0mvt\u001b[0m\u001b[1;33m)\u001b[0m\u001b[1;33m-\u001b[0m\u001b[0mu\u001b[0m\u001b[1;33m[\u001b[0m\u001b[0mi\u001b[0m\u001b[1;33m]\u001b[0m\u001b[1;33m+\u001b[0m\u001b[0mI\u001b[0m\u001b[1;33m[\u001b[0m\u001b[0mi\u001b[0m\u001b[1;33m]\u001b[0m\u001b[1;33m)\u001b[0m \u001b[1;33m/\u001b[0m \u001b[0mC\u001b[0m\u001b[1;33m\u001b[0m\u001b[0m\n\u001b[0;32m      5\u001b[0m     \u001b[0mv\u001b[0m\u001b[1;33m[\u001b[0m\u001b[0mi\u001b[0m\u001b[1;33m+\u001b[0m\u001b[1;36m1\u001b[0m\u001b[1;33m]\u001b[0m \u001b[1;33m=\u001b[0m \u001b[0mv\u001b[0m\u001b[1;33m[\u001b[0m\u001b[0mi\u001b[0m\u001b[1;33m]\u001b[0m\u001b[1;33m+\u001b[0m \u001b[0mdvdt\u001b[0m\u001b[1;33m\u001b[0m\u001b[0m\n",
      "\u001b[1;31mNameError\u001b[0m: name 't' is not defined"
     ]
    }
   ],
   "source": [
    "for i in range(t.shape[0]-1): \n",
    "       \n",
    "    # forward Euler method\n",
    "    dvdt   = dt * (k*(v[i]-vr)*(v[i]-vt)-u[i]+I[i]) / C\n",
    "    v[i+1] = v[i]+ dvdt\n",
    "    \n",
    "    dudt   = dt * a*(b*(v[i]-vr)-u[i])\n",
    "    u[i+1] = u[i] + dudt\n",
    "\n",
    "    if v[i+1] >= vpeak:      # a spike is fired!\n",
    "        \n",
    "        v[i]   = vpeak       # padding the spike amplitude\n",
    "        v[i+1] = c           # membrane voltage reset\n",
    "        u[i+1] = u[i+1] + d  # recovery variable update\n",
    "        spike_count = spike_count + 1"
   ]
  },
  {
   "cell_type": "code",
   "execution_count": 9,
   "metadata": {},
   "outputs": [
    {
     "data": {
      "image/png": "[encoded data removed]",
      "text/plain": [
       "<matplotlib.figure.Figure at 0x1b15ec6c550>"
      ]
     },
     "metadata": {},
     "output_type": "display_data"
    },
    {
     "data": {
      "image/png": "[encoded data removed]",
      "text/plain": [
       "<matplotlib.figure.Figure at 0x1b1603a4470>"
      ]
     },
     "metadata": {},
     "output_type": "display_data"
    }
   ],
   "source": [
    "plt.plot(t, I)\n",
    "plt.show()\n",
    "plt.plot(t, v)\n",
    "plt.show()"
   ]
  },
  {
   "cell_type": "code",
   "execution_count": null,
   "metadata": {},
   "outputs": [],
   "source": []
  }
 ],
 "metadata": {
  "kernelspec": {
   "display_name": "Python 3",
   "language": "python",
   "name": "python3"
  },
  "language_info": {
   "codemirror_mode": {
    "name": "ipython",
    "version": 3
   },
   "file_extension": ".py",
   "mimetype": "text/x-python",
   "name": "python",
   "nbconvert_exporter": "python",
   "pygments_lexer": "ipython3",
   "version": "3.5.4"
  }
 },
 "nbformat": 4,
 "nbformat_minor": 2
}
